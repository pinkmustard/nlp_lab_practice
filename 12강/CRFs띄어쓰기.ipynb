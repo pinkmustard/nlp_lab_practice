{
 "cells": [
  {
   "cell_type": "code",
   "execution_count": null,
   "metadata": {},
   "outputs": [],
   "source": [
    "import os\n",
    "import sklearn_crfsuite\n",
    "from sklearn_crfsuite import metrics\n",
    "\n",
    "file_path = \"spacing_data.txt\"\n",
    "\n",
    "with open(file_path, \"r\", encoding=\"utf8\") as inFile:\n",
    "    lines = inFile.readlines()\n",
    "    \n",
    "# 데이터를 음절로 이루어진 문장과 정답 값으로 나누어 저장\n",
    "datas = []\n",
    "for line in lines:\n",
    "    pieces = line.strip().split(\"\\t\")\n",
    "    eumjeol_sequence, label = pieces[0].split(), pieces[1].split()\n",
    "    datas.append((eumjeol_sequence, label))\n",
    "\n",
    "number_of_train_datas = int(len(datas)*0.9)\n",
    "\n",
    "train_datas = datas[:number_of_train_datas]\n",
    "test_datas = datas[number_of_train_datas:]\n",
    "\n",
    "print(\"train개수: \", len(train_datas))\n",
    "print(\"test개수: \", len(test_datas))"
   ]
  },
  {
   "cell_type": "code",
   "execution_count": null,
   "metadata": {},
   "outputs": [],
   "source": [
    "# 데이터 변환\n",
    "def sent2feature(eumjeol_sequence):\n",
    "    features = []\n",
    "    sequence_length = len(eumjeol_sequence)\n",
    "    for index, eumjeol in enumerate(eumjeol_sequence):\n",
    "        feature = {\"BOS\": False, \"EOS\": False, \"WORD\": eumjeol, \"IS_DIGIT\": eumjeol.isdigit()}\n",
    "        \n",
    "        if(index == 0):\n",
    "            feature[\"BOS\"] = True\n",
    "        elif(index == sequence_length-1):\n",
    "            feature[\"EOS\"] = True\n",
    "        \n",
    "        if(index-1 <= sequence_length-1):\n",
    "            feature[\"-1_WORD\"] = eumjeol_sequence[index-1]\n",
    "        if(index-2 <= sequence_length-1):\n",
    "            feature[\"-2_WORD\"] = eumjeol_sequence[index-2]\n",
    "            \n",
    "        if(index+1 <= sequence_length-1):\n",
    "            feature[\"+1_WORD\"] = eumjeol_sequence[index+1]\n",
    "        if(index+2 <= sequence_length-1):\n",
    "            feature[\"+2_WORD\"] = eumjeol_sequence[index+2]\n",
    "        \n",
    "        features.append(feature)\n",
    "    \n",
    "    return features"
   ]
  },
  {
   "cell_type": "code",
   "execution_count": null,
   "metadata": {},
   "outputs": [],
   "source": [
    "# 데이터 생성\n",
    "train_x, train_y = [], []\n",
    "for eumjeol_sequence, label in train_datas:\n",
    "    train_x.append(sent2feature(eumjeol_sequence))\n",
    "    train_y.append(label)\n",
    "\n",
    "test_x, test_y = [], []\n",
    "for eumjeol_sequence, label in test_datas:\n",
    "    test_x.append(sent2feature(eumjeol_sequence))\n",
    "    test_y.append(label)"
   ]
  },
  {
   "cell_type": "code",
   "execution_count": null,
   "metadata": {},
   "outputs": [],
   "source": [
    "# CRFs 학습\n",
    "crf = sklearn_crfsuite.CRF()\n",
    "crf.fit(train_x, train_y)"
   ]
  },
  {
   "cell_type": "code",
   "execution_count": null,
   "metadata": {},
   "outputs": [],
   "source": [
    "# CRFs 평가\n",
    "\n",
    "def show_predict_result(test_datas, predict):\n",
    "    for index_1 in range(len(test_datas)):\n",
    "        eumjeol_sequence, correct_labels = test_datas[index_1]\n",
    "        predict_labels = predict[index_1]\n",
    "        \n",
    "        correct_sentence, predict_sentence = \"\", \"\"\n",
    "        for index_2 in range(len(eumjeol_sequence)):\n",
    "            if(index_2==0):\n",
    "                correct_sentence += eumjeol_sequence[index_2]\n",
    "                predict_sentence += eumjeol_sequence[index_2]\n",
    "                continue\n",
    "            \n",
    "            if(correct_labels[index_2]==\"B\"):\n",
    "                correct_labels += \" \"\n",
    "            correct_sentence += eumjeol_sequence[index_2]\n",
    "            \n",
    "            if(predict_labels[index_2] == \"B\"):\n",
    "                predict_sentence += \" \"\n",
    "            predict_sentence += eumjeol_sequence[index_2]\n",
    "        \n",
    "        print(\"정답 문장: \" + correct_sentence)\n",
    "        print(\"출력 문장: \" + predict_sentence)\n",
    "        print()\n",
    "    \n",
    "    predict = crf.predict(test_x)\n",
    "    print(\"ACC Score\"+ str(metrics.flat_accuracy_score(test_y, predict)))\n",
    "    print()\n",
    "    print(\"10개의 데이터에 대한 모델 출력과 실제 정답 비교\")\n",
    "    print()\n",
    "    \n",
    "    show_predict_result(test_datas[:10], predict[:10])"
   ]
  }
 ],
 "metadata": {
  "kernelspec": {
   "display_name": "deeplearn",
   "language": "python",
   "name": "python3"
  },
  "language_info": {
   "name": "python",
   "version": "3.8.18"
  }
 },
 "nbformat": 4,
 "nbformat_minor": 2
}
