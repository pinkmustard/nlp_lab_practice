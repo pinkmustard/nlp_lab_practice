{
 "cells": [
  {
   "cell_type": "code",
   "execution_count": 7,
   "metadata": {},
   "outputs": [
    {
     "name": "stdout",
     "output_type": "stream",
     "text": [
      "train개수:  900\n",
      "test개수:  100\n"
     ]
    }
   ],
   "source": [
    "import os\n",
    "import sklearn_crfsuite\n",
    "from sklearn_crfsuite import metrics\n",
    "\n",
    "file_path = \"spacing_data.txt\"\n",
    "\n",
    "with open(file_path, \"r\", encoding=\"utf8\") as inFile:\n",
    "    lines = inFile.readlines()\n",
    "    \n",
    "# 데이터를 음절로 이루어진 문장과 정답 값으로 나누어 저장\n",
    "datas = []\n",
    "for line in lines:\n",
    "    pieces = line.strip().split(\"\\t\")\n",
    "    eumjeol_sequence, label = pieces[0].split(), pieces[1].split()\n",
    "    datas.append((eumjeol_sequence, label))\n",
    "\n",
    "number_of_train_datas = int(len(datas)*0.9)\n",
    "\n",
    "train_datas = datas[:number_of_train_datas]\n",
    "test_datas = datas[number_of_train_datas:]\n",
    "\n",
    "print(\"train개수: \", len(train_datas))\n",
    "print(\"test개수: \", len(test_datas))"
   ]
  },
  {
   "cell_type": "code",
   "execution_count": 8,
   "metadata": {},
   "outputs": [],
   "source": [
    "# 데이터 변환\n",
    "def sent2feature(eumjeol_sequence):\n",
    "    features = []\n",
    "    sequence_length = len(eumjeol_sequence)\n",
    "    for index, eumjeol in enumerate(eumjeol_sequence):\n",
    "        feature = {\"BOS\": False, \"EOS\": False, \"WORD\": eumjeol, \"IS_DIGIT\": eumjeol.isdigit()}\n",
    "        \n",
    "        if(index == 0):\n",
    "            feature[\"BOS\"] = True\n",
    "        elif(index == sequence_length-1):\n",
    "            feature[\"EOS\"] = True\n",
    "        \n",
    "        if(index-1 <= sequence_length-1):\n",
    "            feature[\"-1_WORD\"] = eumjeol_sequence[index-1]\n",
    "        if(index-2 <= sequence_length-1):\n",
    "            feature[\"-2_WORD\"] = eumjeol_sequence[index-2]\n",
    "            \n",
    "        if(index+1 <= sequence_length-1):\n",
    "            feature[\"+1_WORD\"] = eumjeol_sequence[index+1]\n",
    "        if(index+2 <= sequence_length-1):\n",
    "            feature[\"+2_WORD\"] = eumjeol_sequence[index+2]\n",
    "        \n",
    "        features.append(feature)\n",
    "    \n",
    "    return features"
   ]
  },
  {
   "cell_type": "code",
   "execution_count": 9,
   "metadata": {},
   "outputs": [],
   "source": [
    "# 데이터 생성\n",
    "train_x, train_y = [], []\n",
    "for eumjeol_sequence, label in train_datas:\n",
    "    train_x.append(sent2feature(eumjeol_sequence))\n",
    "    train_y.append(label)\n",
    "\n",
    "test_x, test_y = [], []\n",
    "for eumjeol_sequence, label in test_datas:\n",
    "    test_x.append(sent2feature(eumjeol_sequence))\n",
    "    test_y.append(label)"
   ]
  },
  {
   "cell_type": "code",
   "execution_count": 10,
   "metadata": {},
   "outputs": [
    {
     "data": {
      "text/html": [
       "<style>#sk-container-id-2 {color: black;}#sk-container-id-2 pre{padding: 0;}#sk-container-id-2 div.sk-toggleable {background-color: white;}#sk-container-id-2 label.sk-toggleable__label {cursor: pointer;display: block;width: 100%;margin-bottom: 0;padding: 0.3em;box-sizing: border-box;text-align: center;}#sk-container-id-2 label.sk-toggleable__label-arrow:before {content: \"▸\";float: left;margin-right: 0.25em;color: #696969;}#sk-container-id-2 label.sk-toggleable__label-arrow:hover:before {color: black;}#sk-container-id-2 div.sk-estimator:hover label.sk-toggleable__label-arrow:before {color: black;}#sk-container-id-2 div.sk-toggleable__content {max-height: 0;max-width: 0;overflow: hidden;text-align: left;background-color: #f0f8ff;}#sk-container-id-2 div.sk-toggleable__content pre {margin: 0.2em;color: black;border-radius: 0.25em;background-color: #f0f8ff;}#sk-container-id-2 input.sk-toggleable__control:checked~div.sk-toggleable__content {max-height: 200px;max-width: 100%;overflow: auto;}#sk-container-id-2 input.sk-toggleable__control:checked~label.sk-toggleable__label-arrow:before {content: \"▾\";}#sk-container-id-2 div.sk-estimator input.sk-toggleable__control:checked~label.sk-toggleable__label {background-color: #d4ebff;}#sk-container-id-2 div.sk-label input.sk-toggleable__control:checked~label.sk-toggleable__label {background-color: #d4ebff;}#sk-container-id-2 input.sk-hidden--visually {border: 0;clip: rect(1px 1px 1px 1px);clip: rect(1px, 1px, 1px, 1px);height: 1px;margin: -1px;overflow: hidden;padding: 0;position: absolute;width: 1px;}#sk-container-id-2 div.sk-estimator {font-family: monospace;background-color: #f0f8ff;border: 1px dotted black;border-radius: 0.25em;box-sizing: border-box;margin-bottom: 0.5em;}#sk-container-id-2 div.sk-estimator:hover {background-color: #d4ebff;}#sk-container-id-2 div.sk-parallel-item::after {content: \"\";width: 100%;border-bottom: 1px solid gray;flex-grow: 1;}#sk-container-id-2 div.sk-label:hover label.sk-toggleable__label {background-color: #d4ebff;}#sk-container-id-2 div.sk-serial::before {content: \"\";position: absolute;border-left: 1px solid gray;box-sizing: border-box;top: 0;bottom: 0;left: 50%;z-index: 0;}#sk-container-id-2 div.sk-serial {display: flex;flex-direction: column;align-items: center;background-color: white;padding-right: 0.2em;padding-left: 0.2em;position: relative;}#sk-container-id-2 div.sk-item {position: relative;z-index: 1;}#sk-container-id-2 div.sk-parallel {display: flex;align-items: stretch;justify-content: center;background-color: white;position: relative;}#sk-container-id-2 div.sk-item::before, #sk-container-id-2 div.sk-parallel-item::before {content: \"\";position: absolute;border-left: 1px solid gray;box-sizing: border-box;top: 0;bottom: 0;left: 50%;z-index: -1;}#sk-container-id-2 div.sk-parallel-item {display: flex;flex-direction: column;z-index: 1;position: relative;background-color: white;}#sk-container-id-2 div.sk-parallel-item:first-child::after {align-self: flex-end;width: 50%;}#sk-container-id-2 div.sk-parallel-item:last-child::after {align-self: flex-start;width: 50%;}#sk-container-id-2 div.sk-parallel-item:only-child::after {width: 0;}#sk-container-id-2 div.sk-dashed-wrapped {border: 1px dashed gray;margin: 0 0.4em 0.5em 0.4em;box-sizing: border-box;padding-bottom: 0.4em;background-color: white;}#sk-container-id-2 div.sk-label label {font-family: monospace;font-weight: bold;display: inline-block;line-height: 1.2em;}#sk-container-id-2 div.sk-label-container {text-align: center;}#sk-container-id-2 div.sk-container {/* jupyter's `normalize.less` sets `[hidden] { display: none; }` but bootstrap.min.css set `[hidden] { display: none !important; }` so we also need the `!important` here to be able to override the default hidden behavior on the sphinx rendered scikit-learn.org. See: https://github.com/scikit-learn/scikit-learn/issues/21755 */display: inline-block !important;position: relative;}#sk-container-id-2 div.sk-text-repr-fallback {display: none;}</style><div id=\"sk-container-id-2\" class=\"sk-top-container\"><div class=\"sk-text-repr-fallback\"><pre>CRF()</pre><b>In a Jupyter environment, please rerun this cell to show the HTML representation or trust the notebook. <br />On GitHub, the HTML representation is unable to render, please try loading this page with nbviewer.org.</b></div><div class=\"sk-container\" hidden><div class=\"sk-item\"><div class=\"sk-estimator sk-toggleable\"><input class=\"sk-toggleable__control sk-hidden--visually\" id=\"sk-estimator-id-2\" type=\"checkbox\" checked><label for=\"sk-estimator-id-2\" class=\"sk-toggleable__label sk-toggleable__label-arrow\">CRF</label><div class=\"sk-toggleable__content\"><pre>CRF()</pre></div></div></div></div></div>"
      ],
      "text/plain": [
       "CRF()"
      ]
     },
     "execution_count": 10,
     "metadata": {},
     "output_type": "execute_result"
    }
   ],
   "source": [
    "# CRFs 학습\n",
    "crf = sklearn_crfsuite.CRF()\n",
    "crf.fit(train_x, train_y)"
   ]
  },
  {
   "cell_type": "code",
   "execution_count": 11,
   "metadata": {},
   "outputs": [],
   "source": [
    "# CRFs 평가\n",
    "\n",
    "def show_predict_result(test_datas, predict):\n",
    "    for index_1 in range(len(test_datas)):\n",
    "        eumjeol_sequence, correct_labels = test_datas[index_1]\n",
    "        predict_labels = predict[index_1]\n",
    "        \n",
    "        correct_sentence, predict_sentence = \"\", \"\"\n",
    "        for index_2 in range(len(eumjeol_sequence)):\n",
    "            if(index_2==0):\n",
    "                correct_sentence += eumjeol_sequence[index_2]\n",
    "                predict_sentence += eumjeol_sequence[index_2]\n",
    "                continue\n",
    "            \n",
    "            if(correct_labels[index_2]==\"B\"):\n",
    "                correct_labels += \" \"\n",
    "            correct_sentence += eumjeol_sequence[index_2]\n",
    "            \n",
    "            if(predict_labels[index_2] == \"B\"):\n",
    "                predict_sentence += \" \"\n",
    "            predict_sentence += eumjeol_sequence[index_2]\n",
    "        \n",
    "        print(\"정답 문장: \" + correct_sentence)\n",
    "        print(\"출력 문장: \" + predict_sentence)\n",
    "        print()\n",
    "    \n"
   ]
  },
  {
   "cell_type": "code",
   "execution_count": 12,
   "metadata": {},
   "outputs": [
    {
     "name": "stdout",
     "output_type": "stream",
     "text": [
      "ACC Score0.8969858832506676\n",
      "\n",
      "10개의 데이터에 대한 모델 출력과 실제 정답 비교\n",
      "\n",
      "정답 문장: 1914-18년의전쟁은인류를통합시킨최초의공통분모였다.\n",
      "출력 문장: 1914- 18년의 전쟁은 인류를 통합시킨 최초의 공통분 모였다.\n",
      "\n",
      "정답 문장: 하지만이전쟁은죽음을통해인류를통합시켰다.\n",
      "출력 문장: 하지만이 전쟁은 죽음을 통해 인류를 통합시켰다.\n",
      "\n",
      "정답 문장: 사라예보에서한세르비아인이쏜총한발이합스부르크가의계승자를죽였다.\n",
      "출력 문장: 사라 예보에서 한 세르 비아인이 쏜총한 발이 합스부르크가의 계승 자를 죽였다.\n",
      "\n",
      "정답 문장: 이암살행위는국지적인민족주의들과세계적인제국주의들이충돌하는분쟁지역에서저질러졌다.\n",
      "출력 문장: 이암 살행 위는 국지적인 민족주의 들과 세계적인 제국주의 들이 충돌하는 분쟁 지역에서 저질러졌다.\n",
      "\n",
      "정답 문장: 오토만제국의점진적인해체는민족주의의독기를발산하는동시에오스트리아,헝가리와독일,영국,프랑스의탐욕을자극했다.\n",
      "출력 문장: 오토만 제국의 점진 적인 해체는 민족주의의 독기를 발산하는 동시에 오스트리아, 헝가리와 독일, 영국, 프랑스의 탐욕을 자극했다.\n",
      "\n",
      "정답 문장: 이렇게해서발칸반도의한외진장소에서벌어진국지적인테러행위는일련의긴박한반응을불러일으키면서전유럽에영향을미쳤을뿐만아니라이번에는아시아와아프리카식민지들,일본,그리고이어서미국과멕시코까지끌어들였다.\n",
      "출력 문장: 이렇게 해서 발칸 반도의 한외진 장소에서 벌어 진국지적인 테러행 위는 일련의 긴박한 반응을 불러일으키면서 전유럽에 영향을 미쳤을 뿐만 아니라이 번에는 아시아와 아프리카 식민지들, 일본, 그리고 이어서 미국과 멕시코까지 끌어들였다.\n",
      "\n",
      "정답 문장: 전쟁의물결이지구상의모든대양으로밀려드는동안캐나다인들과미국인들,오스트레일리아인들,세네갈인들,알제리인들,모로코인들,안남(安南)인들은연합군깃발을휘날리며유럽전선에서싸웠다.\n",
      "출력 문장: 전쟁의 물결이 지구상의 모든 대양으로 밀려드는 동안 캐나다인들과 미국인들, 오스트레 일리 아인들, 세네 갈인들, 알 제리인들, 모로 코인들, 안 남(安南)인들은 연합군 깃발을 휘날리며 유럽 전선에서 싸웠다.\n",
      "\n",
      "정답 문장: 앞서살펴본것처럼,세계대전의원인이된것은대립관계에있던유럽제국주의의구심적회귀였다.\n",
      "출력 문장: 앞서 살펴본 것처럼, 세계 대전의 원인이된 것은 대립 관계에 있던 유럽 제국주의 의구심적회귀였다.\n",
      "\n",
      "정답 문장: 그리고세계대전을촉발시킨것은주요제국주의들과소수민족주의들간의상호작용이었다.\n",
      "출력 문장: 그리고 세계 대전을 촉발시킨 것은 주요 제국주의 들과 소수 민족주의 들간의 상호 작용이었다.\n",
      "\n",
      "정답 문장: 또한세계대전의빌미를제공한것은격화된민족주의들이었다.\n",
      "출력 문장: 또한 세계 대전의 빌미를 제공한 것은 격화된 민족주의 들이었다.\n",
      "\n"
     ]
    }
   ],
   "source": [
    "predict = crf.predict(test_x)\n",
    "print(\"ACC Score\"+ str(metrics.flat_accuracy_score(test_y, predict)))\n",
    "print()\n",
    "print(\"10개의 데이터에 대한 모델 출력과 실제 정답 비교\")\n",
    "print()\n",
    "\n",
    "show_predict_result(test_datas[:10], predict[:10])"
   ]
  },
  {
   "cell_type": "code",
   "execution_count": null,
   "metadata": {},
   "outputs": [],
   "source": []
  }
 ],
 "metadata": {
  "kernelspec": {
   "display_name": "deeplearn",
   "language": "python",
   "name": "python3"
  },
  "language_info": {
   "codemirror_mode": {
    "name": "ipython",
    "version": 3
   },
   "file_extension": ".py",
   "mimetype": "text/x-python",
   "name": "python",
   "nbconvert_exporter": "python",
   "pygments_lexer": "ipython3",
   "version": "3.8.18"
  }
 },
 "nbformat": 4,
 "nbformat_minor": 2
}
