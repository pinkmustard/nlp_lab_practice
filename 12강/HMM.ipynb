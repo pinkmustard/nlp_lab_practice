{
 "cells": [
  {
   "cell_type": "markdown",
   "metadata": {},
   "source": [
    "# HMM 실습"
   ]
  },
  {
   "cell_type": "code",
   "execution_count": 6,
   "metadata": {},
   "outputs": [
    {
     "name": "stderr",
     "output_type": "stream",
     "text": [
      "MultinomialHMM has undergone major changes. The previous version was implementing a CategoricalHMM (a special case of MultinomialHMM). This new implementation follows the standard definition for a Multinomial distribution (e.g. as in https://en.wikipedia.org/wiki/Multinomial_distribution). See these issues for details:\n",
      "https://github.com/hmmlearn/hmmlearn/issues/335\n",
      "https://github.com/hmmlearn/hmmlearn/issues/340\n"
     ]
    },
    {
     "name": "stdout",
     "output_type": "stream",
     "text": [
      "Input:  Boots, Boots, Shoes, Shoes\n",
      "Output:  Rainy, Rainy, Sunny, Sunny\n",
      "Probability:  -4.609853133892472\n"
     ]
    }
   ],
   "source": [
    "import numpy as np\n",
    "from hmmlearn import hmm\n",
    "\n",
    "states = [\"Rainy\", \"Cloudy\", \"Sunny\"]\n",
    "n_states = len(states)\n",
    "\n",
    "observation = [\"Boots\", \"Shoes\"]\n",
    "n_observation = len(observation)\n",
    "\n",
    "# 시작 확률\n",
    "start_probability = np.array([0.2, 0.5, 0.3])\n",
    "\n",
    "# 전이 확률\n",
    "transition_probability = np.array([\n",
    "    [0.4, 0.3, 0.3],\n",
    "    [0.2, 0.6, 0.2],\n",
    "    [0.1, 0.1, 0.8]\n",
    "])\n",
    "\n",
    "# 관측 확률\n",
    "emission_probability = np.array([\n",
    "    [0.8, 0.2],\n",
    "    [0.5, 0.5],\n",
    "    [0.1, 0.9]\n",
    "])\n",
    "\n",
    "# 모델 만들기\n",
    "model = hmm.MultinomialHMM(n_components=n_states, n_trials=1)\n",
    "model.startprob_ = start_probability\n",
    "model.transmat_ = transition_probability\n",
    "model.emissionprob_ = emission_probability\n",
    "\n",
    "# 관측 입력: 원-핫 인코딩으로 변환\n",
    "input = [0, 0, 1, 1]\n",
    "hmm_input = np.zeros((len(input), n_observation))\n",
    "for i, obs in enumerate(input):\n",
    "    hmm_input[i, obs] = 1\n",
    "\n",
    "# HMM 모델 호출\n",
    "logprob, sequence = model.decode(hmm_input)\n",
    "\n",
    "print(\"Input: \", \", \".join(map(lambda x: observation[x], input)))\n",
    "print(\"Output: \", \", \".join(map(lambda x: states[x], sequence)))\n",
    "print(\"Probability: \", logprob)\n"
   ]
  }
 ],
 "metadata": {
  "kernelspec": {
   "display_name": "deeplearn",
   "language": "python",
   "name": "python3"
  },
  "language_info": {
   "codemirror_mode": {
    "name": "ipython",
    "version": 3
   },
   "file_extension": ".py",
   "mimetype": "text/x-python",
   "name": "python",
   "nbconvert_exporter": "python",
   "pygments_lexer": "ipython3",
   "version": "3.8.18"
  }
 },
 "nbformat": 4,
 "nbformat_minor": 2
}
