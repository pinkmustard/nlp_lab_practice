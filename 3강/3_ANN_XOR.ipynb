{
 "cells": [
  {
   "cell_type": "markdown",
   "metadata": {},
   "source": [
    "# XOR 문제 풀기\n",
    "## 데이터 불러오기 및 구성"
   ]
  },
  {
   "cell_type": "code",
   "execution_count": 1,
   "metadata": {},
   "outputs": [],
   "source": [
    "# XOR 게이트 파이토치\n",
    "import numpy as np\n",
    "import torch\n",
    "import torch.nn as nn\n",
    "from sklearn.metrics import accuracy_score\n",
    "\n",
    "# 데이터 읽기 함수\n",
    "def load_dataset(file, device):\n",
    "    data = np.loadtxt(file)\n",
    "    print(\"DATA=\", data)\n",
    "    \n",
    "    input_features = data[:, 0:-1] # 행은 다 읽고(세로), 열은 하나 빼고(y빼고)\n",
    "    print(\"INPUT_FEATURES=\", input_features)\n",
    "    \n",
    "    labels = np.reshape(data[:, -1],(4,1)) # 레아블 형태를 맞추기 위해 reshape\n",
    "    print(\"LABELS=\", labels)\n",
    "    \n",
    "    input_features = torch.tensor(input_features, dtype=torch.float).to(device) # 토치 텐서 형태로 \n",
    "    labels = torch.tensor(labels, dtype=torch.float).to(device)\n",
    "    \n",
    "    return (input_features, labels)\n",
    "\n",
    "# 모델 평가 결과 계산을 위해 텐서를 리스트로 변환하는 함수\n",
    "def tensor2list(input_tensor):\n",
    "    return input_tensor.cpu().detach().numpy().tolist()"
   ]
  },
  {
   "cell_type": "markdown",
   "metadata": {},
   "source": [
    "## device설정 및 multiple perceptron으로 학습해보기"
   ]
  },
  {
   "cell_type": "code",
   "execution_count": 2,
   "metadata": {},
   "outputs": [
    {
     "name": "stdout",
     "output_type": "stream",
     "text": [
      "DATA= [[0. 0. 0.]\n",
      " [0. 1. 1.]\n",
      " [1. 0. 1.]\n",
      " [1. 1. 0.]]\n",
      "INPUT_FEATURES= [[0. 0.]\n",
      " [0. 1.]\n",
      " [1. 0.]\n",
      " [1. 1.]]\n",
      "LABELS= [[0.]\n",
      " [1.]\n",
      " [1.]\n",
      " [0.]]\n"
     ]
    },
    {
     "data": {
      "text/plain": [
       "Sequential(\n",
       "  (0): Linear(in_features=2, out_features=2, bias=True)\n",
       "  (1): Sigmoid()\n",
       "  (2): Linear(in_features=2, out_features=1, bias=True)\n",
       "  (3): Sigmoid()\n",
       ")"
      ]
     },
     "execution_count": 2,
     "metadata": {},
     "output_type": "execute_result"
    }
   ],
   "source": [
    "if torch.cuda.is_available():\n",
    "    device = 'cuda' # 맥이라 CPU로 처리\n",
    "else:\n",
    "    device = 'cpu'\n",
    "    \n",
    "input_features,  labels = load_dataset('train.txt', device)\n",
    "\n",
    "# NN 모델 만들기\n",
    "model = nn.Sequential(\n",
    "    nn.Linear(2,2,bias=True), nn.Sigmoid(),\n",
    "    nn.Linear(2,1, bias=True), nn.Sigmoid()).to(device)\n",
    "\n",
    "loss_func = torch.nn.BCELoss().to(device) # cost 함수\n",
    "optimizer = torch.optim.SGD(model.parameters(),lr=1) # 옵티마이저 설정(역전파 알고리즘 수행 함수) -> W: W - lr*cost(W)W로 편미분한 값 // 통해 가중치 업데이트\n",
    "\n",
    "model.train() # 학습"
   ]
  },
  {
   "cell_type": "code",
   "execution_count": null,
   "metadata": {},
   "outputs": [
    {
     "name": "stdout",
     "output_type": "stream",
     "text": [
      "0 0.7548189163208008\n",
      "100 0.6916934847831726\n",
      "200 0.6849790811538696\n",
      "300 0.6260126829147339\n",
      "400 0.49085718393325806\n",
      "500 0.1589161902666092\n",
      "600 0.06807442009449005\n",
      "700 0.041601963341236115\n",
      "800 0.029603593051433563\n",
      "900 0.022858578711748123\n",
      "1000 0.018565798178315163\n",
      "PRED= [[0.0], [1.0], [1.0], [0.0]]\n",
      "GOLD [[0.0], [1.0], [1.0], [0.0]]\n",
      "ACC:1.000000\n"
     ]
    }
   ],
   "source": [
    "for epoch in range(1001):\n",
    "    # 기울기 계산한 것들 초기화\n",
    "    optimizer.zero_grad()\n",
    "    \n",
    "    # H(X) 계산: forward 연산\n",
    "    hypothesis = model(input_features)\n",
    "    \n",
    "    # 비용 계산\n",
    "    cost = loss_func(hypothesis, labels)\n",
    "    \n",
    "    # 역전파 수행\n",
    "    cost.backward()\n",
    "    optimizer.step() # 옵티마이저 수행\n",
    "    \n",
    "    # 100에포크 마다 비용 출력\n",
    "    if epoch % 100 == 0:\n",
    "        print(epoch, cost.item())\n",
    "        \n",
    "# 평가모드 셋팅(학습 시에 적용했던 드랍 아웃 여부 등을 비적용)\n",
    "model.eval()\n",
    "\n",
    "# 역전파를 적용하지 않도록 context manager 설정\n",
    "with torch.no_grad():\n",
    "    hypothesis = model(input_features)\n",
    "    logits = (hypothesis > 0.5).float() # 1과 0으로 리턴. 그런 값을 logit이라고 함\n",
    "    predicts = tensor2list(logits)\n",
    "    golds = tensor2list(labels)\n",
    "    print('PRED=', predicts)\n",
    "    print(\"GOLD\", golds)\n",
    "    print('ACC:{0:f}'.format(accuracy_score(golds, predicts)))\n",
    "    \n",
    "    # 갈수록 에러가 줄어들고, 정확도는 1이 출력 됨"
   ]
  },
  {
   "cell_type": "markdown",
   "metadata": {},
   "source": [
    "## 은닉 노드 추가"
   ]
  },
  {
   "cell_type": "code",
   "execution_count": 4,
   "metadata": {},
   "outputs": [
    {
     "data": {
      "text/plain": [
       "Sequential(\n",
       "  (0): Linear(in_features=2, out_features=10, bias=True)\n",
       "  (1): Sigmoid()\n",
       "  (2): Linear(in_features=10, out_features=1, bias=True)\n",
       "  (3): Sigmoid()\n",
       ")"
      ]
     },
     "execution_count": 4,
     "metadata": {},
     "output_type": "execute_result"
    }
   ],
   "source": [
    "# NN모델 만들기\n",
    "# 2*2에서 2*10로 변경\n",
    "model = nn.Sequential(\n",
    "    nn.Linear(2,10,bias=True), nn.Sigmoid(),\n",
    "    nn.Linear(10,1, bias=True), nn.Sigmoid()).to(device)\n",
    "loss_func = torch.nn.BCELoss().to(device)\n",
    "optimizer = torch.optim.SGD(model.parameters(),lr=1)\n",
    "\n",
    "model.train()"
   ]
  },
  {
   "cell_type": "code",
   "execution_count": null,
   "metadata": {},
   "outputs": [
    {
     "name": "stdout",
     "output_type": "stream",
     "text": [
      "0 0.6943934559822083\n",
      "100 0.688876748085022\n",
      "200 0.6416378021240234\n",
      "300 0.416054904460907\n",
      "400 0.1545761078596115\n",
      "500 0.06947584450244904\n",
      "600 0.040344394743442535\n",
      "700 0.027117617428302765\n",
      "800 0.019914666190743446\n",
      "900 0.015499919652938843\n",
      "1000 0.012563936412334442\n",
      "PRED= [[0.0], [1.0], [1.0], [0.0]]\n",
      "GOLD [[0.0], [1.0], [1.0], [0.0]]\n",
      "ACC:1.000000\n"
     ]
    }
   ],
   "source": [
    "for epoch in range(1001):\n",
    "    # 기울기 계산한 것들 초기화\n",
    "    optimizer.zero_grad()\n",
    "    \n",
    "    # H(X) 계산: forward 연산\n",
    "    hypothesis = model(input_features)\n",
    "    \n",
    "    # 비용 계산\n",
    "    cost = loss_func(hypothesis, labels)\n",
    "    \n",
    "    # 역전파 수행\n",
    "    cost.backward()\n",
    "    optimizer.step()\n",
    "    \n",
    "    # 100에폭마다 비용 출력\n",
    "    if epoch % 100 == 0:\n",
    "        print(epoch, cost.item())\n",
    "        \n",
    "# 평가모드 셋팅(학습 시에 적용했던 드랍 아웃 여부 등을 비적용\n",
    "model.eval()\n",
    "\n",
    "# 역전파를 적용하지 않도록 context manager 설정\n",
    "with torch.no_grad():\n",
    "    hypothesis = model(input_features)\n",
    "    logits = (hypothesis > 0.5).float()\n",
    "    predicts = tensor2list(logits)\n",
    "    golds = tensor2list(labels)\n",
    "    print('PRED=', predicts)\n",
    "    print(\"GOLD\", golds)\n",
    "    print('ACC:{0:f}'.format(accuracy_score(golds, predicts)))\n",
    "    \n",
    "# 학습속도는 쪼금 더 느리지만, 더 빨리 수렴. widening은 선의 개수를 늘리는 효과를 지님"
   ]
  },
  {
   "cell_type": "markdown",
   "metadata": {},
   "source": [
    "## single layer perceptron으로 해보기"
   ]
  },
  {
   "cell_type": "code",
   "execution_count": 9,
   "metadata": {},
   "outputs": [
    {
     "data": {
      "text/plain": [
       "Sequential(\n",
       "  (0): Linear(in_features=2, out_features=1, bias=True)\n",
       "  (1): Sigmoid()\n",
       ")"
      ]
     },
     "execution_count": 9,
     "metadata": {},
     "output_type": "execute_result"
    }
   ],
   "source": [
    "# Hidden layer를 없애고 Single-layer Perceptron으로 변경\n",
    "model = nn.Sequential(\n",
    "    nn.Linear(2,1, bias=True), nn.Sigmoid()).to(device)\n",
    "loss_func = torch.nn.BCELoss().to(device)\n",
    "optimizer = torch.optim.SGD(model.parameters(),lr=1)\n",
    "\n",
    "model.train()"
   ]
  },
  {
   "cell_type": "code",
   "execution_count": 10,
   "metadata": {},
   "outputs": [
    {
     "name": "stdout",
     "output_type": "stream",
     "text": [
      "0 0.8262089490890503\n",
      "100 0.6931471824645996\n",
      "200 0.6931471824645996\n",
      "300 0.6931471824645996\n",
      "400 0.6931471824645996\n",
      "500 0.6931471824645996\n",
      "600 0.6931471824645996\n",
      "700 0.6931471824645996\n",
      "800 0.6931471824645996\n",
      "900 0.6931471824645996\n",
      "1000 0.6931471824645996\n",
      "1100 0.6931471824645996\n",
      "1200 0.6931471824645996\n",
      "1300 0.6931471824645996\n",
      "1400 0.6931471824645996\n",
      "1500 0.6931471824645996\n",
      "1600 0.6931471824645996\n",
      "1700 0.6931471824645996\n",
      "1800 0.6931471824645996\n",
      "1900 0.6931471824645996\n",
      "2000 0.6931471824645996\n",
      "2100 0.6931471824645996\n",
      "2200 0.6931471824645996\n",
      "2300 0.6931471824645996\n",
      "2400 0.6931471824645996\n",
      "2500 0.6931471824645996\n",
      "2600 0.6931471824645996\n",
      "2700 0.6931471824645996\n",
      "2800 0.6931471824645996\n",
      "2900 0.6931471824645996\n",
      "3000 0.6931471824645996\n",
      "3100 0.6931471824645996\n",
      "3200 0.6931471824645996\n",
      "3300 0.6931471824645996\n",
      "3400 0.6931471824645996\n",
      "3500 0.6931471824645996\n",
      "3600 0.6931471824645996\n",
      "3700 0.6931471824645996\n",
      "3800 0.6931471824645996\n",
      "3900 0.6931471824645996\n",
      "4000 0.6931471824645996\n",
      "4100 0.6931471824645996\n",
      "4200 0.6931471824645996\n",
      "4300 0.6931471824645996\n",
      "4400 0.6931471824645996\n",
      "4500 0.6931471824645996\n",
      "4600 0.6931471824645996\n",
      "4700 0.6931471824645996\n",
      "4800 0.6931471824645996\n",
      "4900 0.6931471824645996\n",
      "5000 0.6931471824645996\n",
      "5100 0.6931471824645996\n",
      "5200 0.6931471824645996\n",
      "5300 0.6931471824645996\n",
      "5400 0.6931471824645996\n",
      "5500 0.6931471824645996\n",
      "5600 0.6931471824645996\n",
      "5700 0.6931471824645996\n",
      "5800 0.6931471824645996\n",
      "5900 0.6931471824645996\n",
      "6000 0.6931471824645996\n",
      "6100 0.6931471824645996\n",
      "6200 0.6931471824645996\n",
      "6300 0.6931471824645996\n",
      "6400 0.6931471824645996\n",
      "6500 0.6931471824645996\n",
      "6600 0.6931471824645996\n",
      "6700 0.6931471824645996\n",
      "6800 0.6931471824645996\n",
      "6900 0.6931471824645996\n",
      "7000 0.6931471824645996\n",
      "7100 0.6931471824645996\n",
      "7200 0.6931471824645996\n",
      "7300 0.6931471824645996\n",
      "7400 0.6931471824645996\n",
      "7500 0.6931471824645996\n",
      "7600 0.6931471824645996\n",
      "7700 0.6931471824645996\n",
      "7800 0.6931471824645996\n",
      "7900 0.6931471824645996\n",
      "8000 0.6931471824645996\n",
      "8100 0.6931471824645996\n",
      "8200 0.6931471824645996\n",
      "8300 0.6931471824645996\n",
      "8400 0.6931471824645996\n",
      "8500 0.6931471824645996\n",
      "8600 0.6931471824645996\n",
      "8700 0.6931471824645996\n",
      "8800 0.6931471824645996\n",
      "8900 0.6931471824645996\n",
      "9000 0.6931471824645996\n",
      "9100 0.6931471824645996\n",
      "9200 0.6931471824645996\n",
      "9300 0.6931471824645996\n",
      "9400 0.6931471824645996\n",
      "9500 0.6931471824645996\n",
      "9600 0.6931471824645996\n",
      "9700 0.6931471824645996\n",
      "9800 0.6931471824645996\n",
      "9900 0.6931471824645996\n",
      "10000 0.6931471824645996\n",
      "PRED= [[0.0], [0.0], [0.0], [0.0]]\n",
      "GOLD [[0.0], [1.0], [1.0], [0.0]]\n",
      "ACC:0.500000\n"
     ]
    }
   ],
   "source": [
    "for epoch in range(10001):\n",
    "    # 기울기 계산한 것들 초기화\n",
    "    optimizer.zero_grad()\n",
    "    \n",
    "    # H(X) 계산: forward 연산\n",
    "    hypothesis = model(input_features)\n",
    "    \n",
    "    # 비용 계산\n",
    "    cost = loss_func(hypothesis, labels)\n",
    "    \n",
    "    # 역전파 수행\n",
    "    cost.backward()\n",
    "    optimizer.step()\n",
    "    \n",
    "    # 100에폭마다 비용 출력\n",
    "    if epoch % 100 == 0:\n",
    "        print(epoch, cost.item())\n",
    "        \n",
    "# 평가모드 셋팅(학습 시에 적용했던 드랍 아웃 여부 등을 비적용\n",
    "model.eval()\n",
    "\n",
    "# 역전파를 적용하지 않도록 context manager 설정\n",
    "with torch.no_grad():\n",
    "    hypothesis = model(input_features)\n",
    "    logits = (hypothesis > 0.5).float()\n",
    "    predicts = tensor2list(logits)\n",
    "    golds = tensor2list(labels)\n",
    "    print('PRED=', predicts)\n",
    "    print(\"GOLD\", golds)\n",
    "    print('ACC:{0:f}'.format(accuracy_score(golds, predicts)))\n",
    "    \n",
    "    # 정확도 1이 안나옴. non-linear separable 문제여서 단층으로 못품"
   ]
  },
  {
   "cell_type": "markdown",
   "metadata": {},
   "source": [
    "## 다시 multiple로 하고 층을 많이 쌓아서 기울기 소실 문제 실험"
   ]
  },
  {
   "cell_type": "code",
   "execution_count": 17,
   "metadata": {},
   "outputs": [
    {
     "name": "stdout",
     "output_type": "stream",
     "text": [
      "0 0.7609161734580994\n",
      "500 0.693142294883728\n",
      "1000 0.6929212808609009\n",
      "1500 0.6818122863769531\n",
      "2000 0.028176279738545418\n",
      "2500 0.006109245121479034\n",
      "PRED= [[0.0], [1.0], [1.0], [0.0]]\n",
      "GOLD [[0.0], [1.0], [1.0], [0.0]]\n",
      "ACC:1.000000\n"
     ]
    }
   ],
   "source": [
    "## Hidden layer층을 1개에서 2개로 변경\n",
    "## Deeping은 선을 구부리는 효과\n",
    "\n",
    "model = nn.Sequential(\n",
    "    nn.Linear(2,2, bias=True), nn.Sigmoid(),\n",
    "    nn.Linear(2,2, bias=True), nn.Sigmoid(),\n",
    "    nn.Linear(2,1, bias=True), nn.Sigmoid()).to(device)\n",
    "loss_func = torch.nn.BCELoss().to(device)\n",
    "optimizer = torch.optim.SGD(model.parameters(),lr=1)\n",
    "\n",
    "model.train()\n",
    "\n",
    "for epoch in range(3000):\n",
    "    # 기울기 계산한 것들 초기화\n",
    "    optimizer.zero_grad()\n",
    "    \n",
    "    # H(X) 계산: forward 연산\n",
    "    hypothesis = model(input_features)\n",
    "    \n",
    "    # 비용 계산\n",
    "    cost = loss_func(hypothesis, labels)\n",
    "    \n",
    "    # 역전파 수행\n",
    "    cost.backward()\n",
    "    optimizer.step()\n",
    "    \n",
    "    # 500에폭마다 비용 출력\n",
    "    if epoch % 500 == 0:\n",
    "        print(epoch, cost.item())\n",
    "        \n",
    "# 평가모드 셋팅(학습 시에 적용했던 드랍 아웃 여부 등을 비적용\n",
    "model.eval()\n",
    "\n",
    "# 역전파를 적용하지 않도록 context manager 설정\n",
    "with torch.no_grad():\n",
    "    hypothesis = model(input_features)\n",
    "    logits = (hypothesis > 0.5).float()\n",
    "    predicts = tensor2list(logits)\n",
    "    golds = tensor2list(labels)\n",
    "    print('PRED=', predicts)\n",
    "    print(\"GOLD\", golds)\n",
    "    print('ACC:{0:f}'.format(accuracy_score(golds, predicts)))"
   ]
  },
  {
   "cell_type": "code",
   "execution_count": 32,
   "metadata": {},
   "outputs": [
    {
     "name": "stdout",
     "output_type": "stream",
     "text": [
      "0 0.7029804587364197\n",
      "2500 0.6931471228599548\n",
      "5000 0.6931471824645996\n",
      "7500 0.6931471228599548\n",
      "PRED= [[1.0], [0.0], [1.0], [0.0]]\n",
      "GOLD [[0.0], [1.0], [1.0], [0.0]]\n",
      "ACC:0.500000\n"
     ]
    }
   ],
   "source": [
    "# Hidden layer층을 7개로 변경\n",
    "\n",
    "model = nn.Sequential(\n",
    "    nn.Linear(2,10, bias=True), nn.Sigmoid(),\n",
    "    nn.Linear(10,10, bias=True), nn.Sigmoid(),\n",
    "    nn.Linear(10,10, bias=True), nn.Sigmoid(),\n",
    "    nn.Linear(10,10, bias=True), nn.Sigmoid(),\n",
    "    nn.Linear(10,10, bias=True), nn.Sigmoid(),\n",
    "    nn.Linear(10,10, bias=True), nn.Sigmoid(),\n",
    "    nn.Linear(10,1, bias=True), nn.Sigmoid()).to(device)\n",
    "loss_func = torch.nn.BCELoss().to(device)\n",
    "optimizer = torch.optim.SGD(model.parameters(),lr=1)\n",
    "\n",
    "model.train()\n",
    "\n",
    "for epoch in range(10000):\n",
    "    # 기울기 계산한 것들 초기화\n",
    "    optimizer.zero_grad()\n",
    "    \n",
    "    # H(X) 계산: forward 연산\n",
    "    hypothesis = model(input_features)\n",
    "    \n",
    "    # 비용 계산\n",
    "    cost = loss_func(hypothesis, labels)\n",
    "    \n",
    "    # 역전파 수행\n",
    "    cost.backward()\n",
    "    optimizer.step()\n",
    "    \n",
    "    # 2500에폭마다 비용 출력\n",
    "    if epoch % 2500 == 0:\n",
    "        print(epoch, cost.item())\n",
    "        \n",
    "# 평가모드 셋팅(학습 시에 적용했던 드랍 아웃 여부 등을 비적용\n",
    "model.eval()\n",
    "\n",
    "# 역전파를 적용하지 않도록 context manager 설정\n",
    "with torch.no_grad():\n",
    "    hypothesis = model(input_features)\n",
    "    logits = (hypothesis > 0.5).float()\n",
    "    predicts = tensor2list(logits)\n",
    "    golds = tensor2list(labels)\n",
    "    print('PRED=', predicts)\n",
    "    print(\"GOLD\", golds)\n",
    "    print('ACC:{0:f}'.format(accuracy_score(golds, predicts)))\n",
    "\n",
    "# 더 많이 쌓아봤지만, 정확도가 낮아짐 -> 기울기 소실 문제"
   ]
  },
  {
   "cell_type": "markdown",
   "metadata": {},
   "source": [
    "## ReLU 사용(기울기 소실 문제 해결!)"
   ]
  },
  {
   "cell_type": "code",
   "execution_count": 39,
   "metadata": {},
   "outputs": [
    {
     "name": "stdout",
     "output_type": "stream",
     "text": [
      "0 0.7003188133239746\n",
      "1000 1.6257423339993693e-05\n",
      "2000 5.990302270220127e-06\n",
      "PRED= [[0.0], [1.0], [1.0], [0.0]]\n",
      "GOLD [[0.0], [1.0], [1.0], [0.0]]\n",
      "ACC:1.000000\n"
     ]
    }
   ],
   "source": [
    "# 기울기 소실\n",
    "# Hidden layer층을 7개로 변경\n",
    "\n",
    "model = nn.Sequential(\n",
    "    nn.Linear(2,10, bias=True), nn.ReLU(),\n",
    "    nn.Linear(10,10, bias=True), nn.ReLU(),\n",
    "    nn.Linear(10,10, bias=True), nn.ReLU(),\n",
    "    nn.Linear(10,10, bias=True), nn.ReLU(),\n",
    "    nn.Linear(10,10, bias=True), nn.ReLU(),\n",
    "    nn.Linear(10,10, bias=True), nn.ReLU(),\n",
    "    nn.Linear(10,1, bias=True), nn.Sigmoid()).to(device)\n",
    "loss_func = torch.nn.BCELoss().to(device)\n",
    "optimizer = torch.optim.SGD(model.parameters(),lr=1)\n",
    "\n",
    "model.train()\n",
    "\n",
    "for epoch in range(3000):\n",
    "    # 기울기 계산한 것들 초기화\n",
    "    optimizer.zero_grad()\n",
    "    \n",
    "    # H(X) 계산: forward 연산\n",
    "    hypothesis = model(input_features)\n",
    "    \n",
    "    # 비용 계산\n",
    "    cost = loss_func(hypothesis, labels)\n",
    "    \n",
    "    # 역전파 수행\n",
    "    cost.backward()\n",
    "    optimizer.step()\n",
    "    \n",
    "    # 1000에폭마다 비용 출력\n",
    "    if epoch % 1000 == 0:\n",
    "        print(epoch, cost.item())\n",
    "        \n",
    "# 평가모드 셋팅(학습 시에 적용했던 드랍 아웃 여부 등을 비적용\n",
    "model.eval()\n",
    "\n",
    "# 역전파를 적용하지 않도록 context manager 설정\n",
    "with torch.no_grad():\n",
    "    hypothesis = model(input_features)\n",
    "    logits = (hypothesis > 0.5).float()\n",
    "    predicts = tensor2list(logits)\n",
    "    golds = tensor2list(labels)\n",
    "    print('PRED=', predicts)\n",
    "    print(\"GOLD\", golds)\n",
    "    print('ACC:{0:f}'.format(accuracy_score(golds, predicts)))"
   ]
  },
  {
   "cell_type": "markdown",
   "metadata": {},
   "source": [
    "## 드롭아웃 넣어보기"
   ]
  },
  {
   "cell_type": "code",
   "execution_count": 48,
   "metadata": {},
   "outputs": [
    {
     "name": "stdout",
     "output_type": "stream",
     "text": [
      "0 0.7124330401420593\n",
      "1000 0.17117588222026825\n",
      "2000 0.039803288877010345\n",
      "PRED= [[0.0], [1.0], [1.0], [0.0]]\n",
      "GOLD [[0.0], [1.0], [1.0], [0.0]]\n",
      "ACC:1.000000\n"
     ]
    }
   ],
   "source": [
    "# 기울기 소실\n",
    "# Hidden layer층을 7개로 변경\n",
    "\n",
    "model = nn.Sequential(\n",
    "    nn.Linear(2,10, bias=True), nn.ReLU(), nn.Dropout(0.1),\n",
    "    nn.Linear(10,10, bias=True), nn.ReLU(), nn.Dropout(0.1),\n",
    "    nn.Linear(10,10, bias=True), nn.ReLU(), nn.Dropout(0.1),\n",
    "    nn.Linear(10,10, bias=True), nn.ReLU(), nn.Dropout(0.1),\n",
    "    nn.Linear(10,10, bias=True), nn.ReLU(), nn.Dropout(0.1),\n",
    "    nn.Linear(10,10, bias=True), nn.ReLU(), nn.Dropout(0.1),\n",
    "    nn.Linear(10,1, bias=True), nn.Sigmoid()).to(device)\n",
    "loss_func = torch.nn.BCELoss().to(device)\n",
    "optimizer = torch.optim.SGD(model.parameters(),lr=0.2)\n",
    "\n",
    "model.train()\n",
    "\n",
    "for epoch in range(3000):\n",
    "    # 기울기 계산한 것들 초기화\n",
    "    optimizer.zero_grad()\n",
    "    \n",
    "    # H(X) 계산: forward 연산\n",
    "    hypothesis = model(input_features)\n",
    "    \n",
    "    # 비용 계산\n",
    "    cost = loss_func(hypothesis, labels)\n",
    "    \n",
    "    # 역전파 수행\n",
    "    cost.backward()\n",
    "    optimizer.step()\n",
    "    \n",
    "    # 1000에폭마다 비용 출력\n",
    "    if epoch % 1000 == 0:\n",
    "        print(epoch, cost.item())\n",
    "        \n",
    "# 평가모드 셋팅(학습 시에 적용했던 드랍 아웃 여부 등을 비적용)\n",
    "model.eval()\n",
    "\n",
    "# 역전파를 적용하지 않도록 context manager 설정\n",
    "with torch.no_grad():\n",
    "    hypothesis = model(input_features)\n",
    "    logits = (hypothesis > 0.5).float()\n",
    "    predicts = tensor2list(logits)\n",
    "    golds = tensor2list(labels)\n",
    "    print('PRED=', predicts)\n",
    "    print(\"GOLD\", golds)\n",
    "    print('ACC:{0:f}'.format(accuracy_score(golds, predicts)))"
   ]
  },
  {
   "cell_type": "code",
   "execution_count": null,
   "metadata": {},
   "outputs": [],
   "source": []
  }
 ],
 "metadata": {
  "kernelspec": {
   "display_name": "deeplearn",
   "language": "python",
   "name": "python3"
  },
  "language_info": {
   "codemirror_mode": {
    "name": "ipython",
    "version": 3
   },
   "file_extension": ".py",
   "mimetype": "text/x-python",
   "name": "python",
   "nbconvert_exporter": "python",
   "pygments_lexer": "ipython3",
   "version": "3.8.18"
  }
 },
 "nbformat": 4,
 "nbformat_minor": 2
}
